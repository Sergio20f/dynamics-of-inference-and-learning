{
 "cells": [
  {
   "cell_type": "code",
   "execution_count": null,
   "id": "b95eff3b",
   "metadata": {
    "scrolled": true
   },
   "outputs": [],
   "source": [
    "import os\n",
    "import sys\n",
    "sys.path.append(\"../\")\n",
    "\n",
    "import matplotlib.pyplot as plt\n",
    "import numpy as np\n",
    "import tensorflow as tf\n",
    "# fix bug for the correct use of Conv2D layers\n",
    "physical_devices = tf.config.experimental.list_physical_devices('GPU')\n",
    "if len(physical_devices) > 0:\n",
    "    tf.config.experimental.set_memory_growth(physical_devices[0], True)\n",
    "\n",
    "from helpers import normalize_img\n",
    "from model_setup import training_fit_loop\n",
    "from data_loading import Data"
   ]
  },
  {
   "cell_type": "markdown",
   "id": "3eadae3f",
   "metadata": {},
   "source": [
    "### Normalisation Function"
   ]
  },
  {
   "cell_type": "code",
   "execution_count": null,
   "id": "52698075",
   "metadata": {},
   "outputs": [],
   "source": [
    "def mask_to_categorical(image, mask):\n",
    "    image, mask = normalize_img(image, mask)\n",
    "    mask = tf.one_hot(tf.cast(mask, tf.int32), 10)\n",
    "    mask = tf.cast(mask, tf.float32)\n",
    "    return image, mask"
   ]
  },
  {
   "cell_type": "markdown",
   "id": "572f20c2",
   "metadata": {},
   "source": [
    "### Defining the model"
   ]
  },
  {
   "cell_type": "raw",
   "id": "8f984ddd",
   "metadata": {},
   "source": [
    "base_model = tf.keras.applications.resnet50.ResNet50(include_top=False, weights=\"imagenet\")\n",
    "\n",
    "inputs = tf.keras.layers.Input(shape=(224, 224, 3), name=\"input_layer\")\n",
    "x = base_model(inputs)\n",
    "x = tf.keras.layers.GlobalAveragePooling2D(name=\"global_average_pooling_layer\")(x)\n",
    "outputs = tf.keras.layers.Dense(10, activation=\"softmax\",\n",
    "                               name=\"output_layer\")(x)\n",
    "\n",
    "model_0 = tf.keras.Model(inputs, outputs)"
   ]
  },
  {
   "cell_type": "code",
   "execution_count": null,
   "id": "e6220eaa",
   "metadata": {},
   "outputs": [],
   "source": [
    "from tensorflow.keras.models import Sequential\n",
    "from tensorflow.keras.layers import Conv2D, MaxPooling2D, Flatten, Dense, Dropout\n",
    "from tensorflow.keras.optimizers import SGD\n",
    "\n",
    "def define_model():\n",
    "    model = Sequential()\n",
    "    model.add(Conv2D(32, (3, 3), activation='relu', kernel_initializer='he_uniform', padding='same', input_shape=(32, 32, 3)))\n",
    "    model.add(Conv2D(32, (3, 3), activation='relu', kernel_initializer='he_uniform', padding='same'))\n",
    "    model.add(MaxPooling2D((2, 2)))\n",
    "    model.add(Dropout(0.2))\n",
    "    model.add(Conv2D(64, (3, 3), activation='relu', kernel_initializer='he_uniform', padding='same'))\n",
    "    model.add(Conv2D(64, (3, 3), activation='relu', kernel_initializer='he_uniform', padding='same'))\n",
    "    model.add(MaxPooling2D((2, 2)))\n",
    "    model.add(Dropout(0.2))\n",
    "    model.add(Conv2D(128, (3, 3), activation='relu', kernel_initializer='he_uniform', padding='same'))\n",
    "    model.add(Conv2D(128, (3, 3), activation='relu', kernel_initializer='he_uniform', padding='same'))\n",
    "    model.add(MaxPooling2D((2, 2)))\n",
    "    model.add(Dropout(0.2))\n",
    "    model.add(Flatten())\n",
    "    model.add(Dense(128, activation='relu', kernel_initializer='he_uniform'))\n",
    "    model.add(Dropout(0.2))\n",
    "    model.add(Dense(10, activation='softmax'))\n",
    "    return model"
   ]
  },
  {
   "cell_type": "markdown",
   "id": "554f9579",
   "metadata": {},
   "source": [
    "### Training"
   ]
  },
  {
   "cell_type": "code",
   "execution_count": null,
   "id": "388cc1f4",
   "metadata": {
    "scrolled": true
   },
   "outputs": [],
   "source": [
    "a = training_fit_loop(model=define_model(),\n",
    "                     model_params=((32, 32, 32), SGD, tf.keras.losses.CategoricalCrossentropy(), [\"accuracy\"]),\n",
    "                     data_step=1500,\n",
    "                     n=30,\n",
    "                     data_loading_params=(\"cifar10\", 128, mask_to_categorical, False, False, \"test\"),\n",
    "                     start_data=4500,\n",
    "                     save_df=os.getcwd()[:-len(\"tests\")] + \"results_df/\", \n",
    "                     verbose=1)"
   ]
  },
  {
   "cell_type": "code",
   "execution_count": null,
   "id": "8fd19a38",
   "metadata": {},
   "outputs": [],
   "source": [
    "import pandas as pd\n",
    "\n",
    "results = pd.read_pickle(os.getcwd()[:-len(\"tests\")] + \"results_df/07_07_2022_-16_44_06_experiment_1\")\n",
    "results"
   ]
  },
  {
   "cell_type": "code",
   "execution_count": null,
   "id": "9a3c3b26",
   "metadata": {},
   "outputs": [],
   "source": [
    "results[\"Exp function fit\"][0]"
   ]
  },
  {
   "cell_type": "code",
   "execution_count": null,
   "id": "9bb27fc6",
   "metadata": {},
   "outputs": [],
   "source": [
    "results[\"PL function fit\"][0]"
   ]
  },
  {
   "cell_type": "markdown",
   "id": "607f88d0",
   "metadata": {},
   "source": [
    "### Test without loop"
   ]
  },
  {
   "cell_type": "raw",
   "id": "c05527ad",
   "metadata": {},
   "source": [
    "# train_data = tf.data.Dataset.from_tensor_slices((X_train, y_train)).map(normalize_img)\n",
    "\n",
    "for i, j in enumerate(train_data):\n",
    "    while i < 5:\n",
    "        print(j)"
   ]
  },
  {
   "cell_type": "raw",
   "id": "70bf0783",
   "metadata": {},
   "source": [
    "from tensorflow.keras import regularizers\n",
    "def cnn_model():\n",
    "    \n",
    "    model = Sequential()\n",
    "    \n",
    "    # First Conv layer\n",
    "    model.add(Conv2D(filters=128, kernel_size=(3,3), activation='relu', padding='same', kernel_regularizer=regularizers.l2(1e-4), input_shape=(32,32,3)))\n",
    "    model.add(MaxPooling2D(pool_size=(2,2)))\n",
    "    model.add(Dropout(0.3))\n",
    "    \n",
    "    # Second Conv layer\n",
    "    model.add(Conv2D(filters=256, kernel_size=(3,3), activation='relu', padding='same', kernel_regularizer=regularizers.l2(1e-4)))\n",
    "    model.add(MaxPooling2D(pool_size=(2,2)))\n",
    "    model.add(Dropout(0.3))\n",
    "    \n",
    "    # Third, fourth, fifth convolution layer\n",
    "    model.add(Conv2D(filters=512, kernel_size=(3,3), activation='relu', padding='same', kernel_regularizer=regularizers.l2(1e-4)))\n",
    "    model.add(Conv2D(filters=512, kernel_size=(3,3), activation='relu', padding='same', kernel_regularizer=regularizers.l2(1e-4)))\n",
    "    model.add(Conv2D(filters=256, kernel_size=(3,3), activation='relu', padding='same', kernel_regularizer=regularizers.l2(1e-4)))\n",
    "    model.add(MaxPooling2D(pool_size=(2,2)))\n",
    "    model.add(Dropout(0.3))\n",
    "\n",
    "    # Fully Connected layers\n",
    "    model.add(Flatten())\n",
    "    \n",
    "    model.add(Dense(512, activation='relu'))\n",
    "    model.add(Dropout(0.5))\n",
    "    model.add(Dense(256, activation='relu'))\n",
    "    model.add(Dropout(0.5))\n",
    "    model.add(Dense(128, activation='relu'))\n",
    "    model.add(Dropout(0.5))\n",
    "    \n",
    "    model.add(Dense(10, activation='softmax'))\n",
    "    \n",
    "    model.summary()\n",
    "    \n",
    "    return model"
   ]
  }
 ],
 "metadata": {
  "kernelspec": {
   "display_name": "Python 3 (ipykernel)",
   "language": "python",
   "name": "python3"
  },
  "language_info": {
   "codemirror_mode": {
    "name": "ipython",
    "version": 3
   },
   "file_extension": ".py",
   "mimetype": "text/x-python",
   "name": "python",
   "nbconvert_exporter": "python",
   "pygments_lexer": "ipython3",
   "version": "3.8.0"
  }
 },
 "nbformat": 4,
 "nbformat_minor": 5
}
