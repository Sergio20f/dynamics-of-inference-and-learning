{
 "cells": [
  {
   "cell_type": "code",
   "execution_count": null,
   "id": "acb1a094",
   "metadata": {
    "scrolled": true
   },
   "outputs": [],
   "source": [
    "import tensorflow as tf\n",
    "\n",
    "# fix bug for the correct use of Conv2D layers\n",
    "physical_devices = tf.config.experimental.list_physical_devices('GPU')\n",
    "if len(physical_devices) > 0:\n",
    "    tf.config.experimental.set_memory_growth(physical_devices[0], True)\n",
    "\n",
    "from model_setup import training_fit_loop"
   ]
  },
  {
   "cell_type": "code",
   "execution_count": null,
   "id": "e08b9122",
   "metadata": {
    "scrolled": false
   },
   "outputs": [],
   "source": [
    "a = training_fit_loop(\"mnist\", data_step=500, n=4, N=2)"
   ]
  },
  {
   "cell_type": "code",
   "execution_count": null,
   "id": "4765c017",
   "metadata": {},
   "outputs": [],
   "source": [
    "a[2]"
   ]
  },
  {
   "cell_type": "markdown",
   "id": "257587f3",
   "metadata": {},
   "source": [
    "1. Check if by fixing the start_data parameter EfficientNet and ResNet do not overfit so fast. \n",
    "2. Review the code.\n",
    "3. Create a script that gathers models"
   ]
  }
 ],
 "metadata": {
  "kernelspec": {
   "display_name": "Python 3 (ipykernel)",
   "language": "python",
   "name": "python3"
  },
  "language_info": {
   "codemirror_mode": {
    "name": "ipython",
    "version": 3
   },
   "file_extension": ".py",
   "mimetype": "text/x-python",
   "name": "python",
   "nbconvert_exporter": "python",
   "pygments_lexer": "ipython3",
   "version": "3.8.0"
  }
 },
 "nbformat": 4,
 "nbformat_minor": 5
}
