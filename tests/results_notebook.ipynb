{
 "cells": [
  {
   "cell_type": "code",
   "execution_count": null,
   "metadata": {
    "scrolled": true
   },
   "outputs": [],
   "source": [
    "import tensorflow as tf\n",
    "\n",
    "# fix bug for the correct use of Conv2D layers\n",
    "physical_devices = tf.config.experimental.list_physical_devices('GPU')\n",
    "if len(physical_devices) > 0:\n",
    "    tf.config.experimental.set_memory_growth(physical_devices[0], True)\n",
    "\n",
    "from model_setup import training_fit_loop"
   ]
  },
  {
   "cell_type": "code",
   "execution_count": null,
   "metadata": {
    "scrolled": false
   },
   "outputs": [],
   "source": [
    "a = training_fit_loop(\"mnist\", data_step=500, n=4, N=2)"
   ]
  },
  {
   "cell_type": "code",
   "execution_count": null,
   "metadata": {},
   "outputs": [],
   "source": [
    "a[2]"
   ]
  },
  {
   "cell_type": "markdown",
   "metadata": {},
   "source": [
    "1. Check if by fixing the start_data parameter EfficientNet and ResNet do not overfit so fast. ✔\n",
    "2. Review the code.\n",
    "3. Create a script that gathers models ✔\n",
    "4. Change main.py to use models.py ✔\n",
    "5. Look into upgrading tensorflow to have EfficientNet (by upgrading anaconda?)\n",
    "\n",
    "\n",
    "* For small n, the model overfits -> Waste of data? The validation accuracy will converge but the later epochs don't provide any valuable information. There is a point at which the model cannot learn more from the available data.\n",
    "\n",
    "* Is there a difference between the val_accuracy and accuracy for the idea of learning? In the end, the model is learning patters from different sets.\n",
    "\n",
    "* Challenge: Find the balance between epochs, start_data, step_data, and epochs."
   ]
  }
 ],
 "metadata": {
  "kernelspec": {
   "display_name": "Python 3",
   "language": "python",
   "name": "python3"
  },
  "language_info": {
   "codemirror_mode": {
    "name": "ipython",
    "version": 3
   },
   "file_extension": ".py",
   "mimetype": "text/x-python",
   "name": "python",
   "nbconvert_exporter": "python",
   "pygments_lexer": "ipython3",
   "version": "3.8.3"
  }
 },
 "nbformat": 4,
 "nbformat_minor": 5
}
